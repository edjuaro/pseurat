{
 "cells": [
  {
   "cell_type": "markdown",
   "metadata": {},
   "source": [
    "## instructions"
   ]
  },
  {
   "cell_type": "markdown",
   "metadata": {},
   "source": [
    "You'll need something like:  \n",
    "\n",
    "png(file=\"filename.jpg\")\n",
    "VlnPlot(object = pbmc, features.plot = c(\"nGene\", \"nUMI\", \"percent.mito\"), nCol = 3)\n",
    "dev.off()"
   ]
  },
  {
   "cell_type": "code",
   "execution_count": 15,
   "metadata": {},
   "outputs": [
    {
     "name": "stdout",
     "output_type": "stream",
     "text": [
      "The autoreload extension is already loaded. To reload it, use:\n",
      "  %reload_ext autoreload\n"
     ]
    }
   ],
   "source": [
    "%load_ext autoreload\n",
    "%autoreload 2\n",
    "\n",
    "from pseurat import *\n",
    "import pickle"
   ]
  },
  {
   "cell_type": "code",
   "execution_count": 25,
   "metadata": {},
   "outputs": [
    {
     "name": "stdout",
     "output_type": "stream",
     "text": [
      "Running the R command as an Rscript and printing the output as it becomes available.\n",
      "[1] \"/home/jovyan\"\n"
     ]
    }
   ],
   "source": [
    "run_R('getwd()')"
   ]
  },
  {
   "cell_type": "code",
   "execution_count": 34,
   "metadata": {},
   "outputs": [],
   "source": [
    "# raw_data = '/Users/edjuaro/GoogleDrive/notebooks/pseurat/filtered_gene_bc_matrices/hg19/'\n",
    "raw_data = 'filtered_gene_bc_matrices/hg19/'\n",
    "data_location = 'data.p'"
   ]
  },
  {
   "cell_type": "code",
   "execution_count": 37,
   "metadata": {},
   "outputs": [
    {
     "name": "stdout",
     "output_type": "stream",
     "text": [
      "Running the R command as an Rscript and printing the output as it becomes available.\n",
      "[1] \"/home/jovyan\"\n",
      "[1] \"loaded\"\n",
      "709264728 bytes\n"
     ]
    }
   ],
   "source": [
    "# Read and Initialize 10X data:\n",
    "command = f\"\"\"\n",
    "getwd()\n",
    "library(Seurat)\n",
    "library(dplyr)\n",
    "print('loaded')\n",
    "pbmc.data <- Read10X(data.dir = \"{raw_data}\")\n",
    "dense.size <- object.size(x = as.matrix(x = pbmc.data))\n",
    "dense.size\n",
    "pbmc <- CreateSeuratObject(raw.data = pbmc.data, min.cells = 3, min.genes = 200, project = \"10X_PBMC\")\n",
    "save(pbmc, file = \"seurat_object.rda\")\n",
    "\"\"\"\n",
    "run_R(command)"
   ]
  },
  {
   "cell_type": "code",
   "execution_count": null,
   "metadata": {},
   "outputs": [],
   "source": []
  }
 ],
 "metadata": {
  "kernelspec": {
   "display_name": "Python 3",
   "language": "python",
   "name": "python3"
  },
  "language_info": {
   "codemirror_mode": {
    "name": "ipython",
    "version": 3
   },
   "file_extension": ".py",
   "mimetype": "text/x-python",
   "name": "python",
   "nbconvert_exporter": "python",
   "pygments_lexer": "ipython3",
   "version": "3.6.5"
  }
 },
 "nbformat": 4,
 "nbformat_minor": 2
}
